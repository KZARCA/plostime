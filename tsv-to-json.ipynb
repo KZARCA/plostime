{
 "cells": [
  {
   "cell_type": "markdown",
   "metadata": {},
   "source": [
    "# Convert a tsv dataframe to json for ajax input to DataTables"
   ]
  },
  {
   "cell_type": "code",
   "execution_count": 1,
   "metadata": {
    "collapsed": true
   },
   "outputs": [],
   "source": [
    "import pandas\n",
    "import json"
   ]
  },
  {
   "cell_type": "code",
   "execution_count": 2,
   "metadata": {
    "collapsed": false
   },
   "outputs": [
    {
     "data": {
      "text/html": [
       "<div>\n",
       "<table border=\"1\" class=\"dataframe\">\n",
       "  <thead>\n",
       "    <tr style=\"text-align: right;\">\n",
       "      <th></th>\n",
       "      <th>journal</th>\n",
       "      <th>journal_abbrev</th>\n",
       "      <th>articles</th>\n",
       "      <th>publication_days_mean</th>\n",
       "      <th>publication_days_median</th>\n",
       "      <th>publication_days_max</th>\n",
       "      <th>publication_days_min</th>\n",
       "      <th>acceptance_days_mean</th>\n",
       "      <th>acceptance_days_median</th>\n",
       "      <th>acceptance_days_max</th>\n",
       "      <th>acceptance_days_min</th>\n",
       "    </tr>\n",
       "  </thead>\n",
       "  <tbody>\n",
       "    <tr>\n",
       "      <th>0</th>\n",
       "      <td>AAPS PharmSciTech</td>\n",
       "      <td>AAPS PharmSciTech</td>\n",
       "      <td>282</td>\n",
       "      <td>32.968085</td>\n",
       "      <td>27.0</td>\n",
       "      <td>210</td>\n",
       "      <td>8</td>\n",
       "      <td>116.404255</td>\n",
       "      <td>108</td>\n",
       "      <td>447</td>\n",
       "      <td>1</td>\n",
       "    </tr>\n",
       "    <tr>\n",
       "      <th>1</th>\n",
       "      <td>ACS macro letters</td>\n",
       "      <td>ACS Macro Lett</td>\n",
       "      <td>17</td>\n",
       "      <td>6.294118</td>\n",
       "      <td>5.0</td>\n",
       "      <td>22</td>\n",
       "      <td>1</td>\n",
       "      <td>54.470588</td>\n",
       "      <td>44</td>\n",
       "      <td>105</td>\n",
       "      <td>8</td>\n",
       "    </tr>\n",
       "    <tr>\n",
       "      <th>2</th>\n",
       "      <td>ACS medicinal chemistry letters</td>\n",
       "      <td>ACS Med Chem Lett</td>\n",
       "      <td>59</td>\n",
       "      <td>6.915254</td>\n",
       "      <td>5.0</td>\n",
       "      <td>62</td>\n",
       "      <td>1</td>\n",
       "      <td>65.203390</td>\n",
       "      <td>57</td>\n",
       "      <td>150</td>\n",
       "      <td>6</td>\n",
       "    </tr>\n",
       "    <tr>\n",
       "      <th>3</th>\n",
       "      <td>AIDS research and therapy</td>\n",
       "      <td>AIDS Res Ther</td>\n",
       "      <td>60</td>\n",
       "      <td>18.416667</td>\n",
       "      <td>13.5</td>\n",
       "      <td>65</td>\n",
       "      <td>3</td>\n",
       "      <td>139.433333</td>\n",
       "      <td>136</td>\n",
       "      <td>336</td>\n",
       "      <td>23</td>\n",
       "    </tr>\n",
       "    <tr>\n",
       "      <th>4</th>\n",
       "      <td>AIDS research and treatment</td>\n",
       "      <td>AIDS Res Treat</td>\n",
       "      <td>41</td>\n",
       "      <td>29.585366</td>\n",
       "      <td>26.0</td>\n",
       "      <td>66</td>\n",
       "      <td>7</td>\n",
       "      <td>116.292683</td>\n",
       "      <td>111</td>\n",
       "      <td>226</td>\n",
       "      <td>32</td>\n",
       "    </tr>\n",
       "  </tbody>\n",
       "</table>\n",
       "</div>"
      ],
      "text/plain": [
       "                           journal     journal_abbrev  articles  \\\n",
       "0                AAPS PharmSciTech  AAPS PharmSciTech       282   \n",
       "1                ACS macro letters     ACS Macro Lett        17   \n",
       "2  ACS medicinal chemistry letters  ACS Med Chem Lett        59   \n",
       "3        AIDS research and therapy      AIDS Res Ther        60   \n",
       "4      AIDS research and treatment     AIDS Res Treat        41   \n",
       "\n",
       "   publication_days_mean  publication_days_median  publication_days_max  \\\n",
       "0              32.968085                     27.0                   210   \n",
       "1               6.294118                      5.0                    22   \n",
       "2               6.915254                      5.0                    62   \n",
       "3              18.416667                     13.5                    65   \n",
       "4              29.585366                     26.0                    66   \n",
       "\n",
       "   publication_days_min  acceptance_days_mean  acceptance_days_median  \\\n",
       "0                     8            116.404255                     108   \n",
       "1                     1             54.470588                      44   \n",
       "2                     1             65.203390                      57   \n",
       "3                     3            139.433333                     136   \n",
       "4                     7            116.292683                     111   \n",
       "\n",
       "   acceptance_days_max  acceptance_days_min  \n",
       "0                  447                    1  \n",
       "1                  105                    8  \n",
       "2                  150                    6  \n",
       "3                  336                   23  \n",
       "4                  226                   32  "
      ]
     },
     "execution_count": 2,
     "metadata": {},
     "output_type": "execute_result"
    }
   ],
   "source": [
    "df = pandas.read_table('data/pubmed-since-2014-summary.tsv')\n",
    "df.head()"
   ]
  },
  {
   "cell_type": "code",
   "execution_count": null,
   "metadata": {
    "collapsed": false
   },
   "outputs": [],
   "source": []
  },
  {
   "cell_type": "code",
   "execution_count": 21,
   "metadata": {
    "collapsed": false
   },
   "outputs": [],
   "source": [
    "columns = ['journal', 'articles', 'acceptance_days_median', 'publication_days_median']\n",
    "converters = [str, int, float, float]\n",
    "rows = [[fxn(x) for x, fxn in zip(row, converters)] for i, row in df[columns].iterrows()]\n",
    "datatables_format = {'data': rows}\n",
    "with open('data/journal-times.json', 'w') as write_file:\n",
    "    json.dump(datatables_format, write_file, indent=2)"
   ]
  },
  {
   "cell_type": "code",
   "execution_count": null,
   "metadata": {
    "collapsed": true
   },
   "outputs": [],
   "source": []
  }
 ],
 "metadata": {
  "kernelspec": {
   "display_name": "Python 3",
   "language": "python",
   "name": "python3"
  },
  "language_info": {
   "codemirror_mode": {
    "name": "ipython",
    "version": 3
   },
   "file_extension": ".py",
   "mimetype": "text/x-python",
   "name": "python",
   "nbconvert_exporter": "python",
   "pygments_lexer": "ipython3",
   "version": "3.4.3"
  }
 },
 "nbformat": 4,
 "nbformat_minor": 0
}
