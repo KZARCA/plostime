{
 "cells": [
  {
   "cell_type": "code",
   "execution_count": 1,
   "metadata": {
    "collapsed": true
   },
   "outputs": [],
   "source": [
    "import re\n",
    "import pandas\n",
    "import random\n",
    "import collections\n",
    "import time\n",
    "import csv\n",
    "\n",
    "import requests\n",
    "import bs4\n",
    "import rpy2.interactive.packages"
   ]
  },
  {
   "cell_type": "code",
   "execution_count": 2,
   "metadata": {
    "collapsed": true
   },
   "outputs": [],
   "source": [
    "%load_ext rpy2.ipython"
   ]
  },
  {
   "cell_type": "code",
   "execution_count": 3,
   "metadata": {
    "collapsed": false
   },
   "outputs": [
    {
     "data": {
      "text/plain": [
       "rpy2.robjects.packages.Package as a <module 'rvest'>"
      ]
     },
     "execution_count": 3,
     "metadata": {},
     "output_type": "execute_result"
    }
   ],
   "source": [
    "rpy2.interactive.packages.importr('rvest')"
   ]
  },
  {
   "cell_type": "code",
   "execution_count": null,
   "metadata": {
    "collapsed": false
   },
   "outputs": [],
   "source": []
  },
  {
   "cell_type": "code",
   "execution_count": 4,
   "metadata": {
    "collapsed": true
   },
   "outputs": [],
   "source": [
    "def get_dates(doi):\n",
    "    base_url = 'http://dx.doi.org/'\n",
    "    url = base_url + doi\n",
    "    r_out = %R -i url url %>% rvest::html() %>% rvest::html_node('.articleinfo p:nth-child(3)') %>% rvest::html_text()\n",
    "    received, accepted, published = r_out[0].split('; ')\n",
    "    received, accepted, published = [str(pandas.to_datetime(x.split(':')[1].strip()).date()) for x in [received, accepted, published]]\n",
    "    return {'doi': doi, 'received': received, 'accepted': accepted, 'published': published}"
   ]
  },
  {
   "cell_type": "code",
   "execution_count": null,
   "metadata": {
    "collapsed": false
   },
   "outputs": [],
   "source": []
  },
  {
   "cell_type": "code",
   "execution_count": 5,
   "metadata": {
    "collapsed": false
   },
   "outputs": [],
   "source": [
    "pubmed_df = pandas.read_table('data/pubmed.tsv.gz', compression='gzip')\n",
    "pubmed_df = pubmed_df.dropna(subset=['doi'])\n",
    "publication_types = collections.Counter(pubmed_df.pubtype)\n",
    "pubmed_df = pubmed_df[pubmed_df.pubtype == 'Journal Article']"
   ]
  },
  {
   "cell_type": "code",
   "execution_count": null,
   "metadata": {
    "collapsed": false
   },
   "outputs": [],
   "source": [
    "def shuffle_and_head(df, k):\n",
    "    return df.ix[random.sample(list(df.index), k)]\n",
    "\n",
    "random.seed(0)\n",
    "subset_df = pubmed_df.groupby('journal').apply(shuffle_and_head, k=1000)"
   ]
  },
  {
   "cell_type": "code",
   "execution_count": null,
   "metadata": {
    "collapsed": false
   },
   "outputs": [],
   "source": []
  },
  {
   "cell_type": "code",
   "execution_count": null,
   "metadata": {
    "collapsed": false
   },
   "outputs": [
    {
     "name": "stdout",
     "output_type": "stream",
     "text": [
      "10.1371/journal.pmed.0010016 need more than 1 value to unpack\n"
     ]
    }
   ],
   "source": [
    "write_file = open('data/dates.tsv', 'w')\n",
    "writer = csv.DictWriter(write_file,  delimiter='\\t', fieldnames=['doi', 'received', 'accepted', 'published'])\n",
    "writer.writeheader()\n",
    "dois = list(subset_df.doi)\n",
    "random.shuffle(dois)\n",
    "for doi in dois:\n",
    "    try:\n",
    "        dates = get_dates(doi)\n",
    "        writer.writerow(dates)\n",
    "    except Exception as error:\n",
    "        print(doi, error)\n",
    "        pass\n",
    "    time.sleep(11)\n",
    "write_file.close()"
   ]
  },
  {
   "cell_type": "code",
   "execution_count": null,
   "metadata": {
    "collapsed": false
   },
   "outputs": [],
   "source": []
  },
  {
   "cell_type": "code",
   "execution_count": null,
   "metadata": {
    "collapsed": true
   },
   "outputs": [],
   "source": []
  }
 ],
 "metadata": {
  "kernelspec": {
   "display_name": "Python 3",
   "language": "python",
   "name": "python3"
  },
  "language_info": {
   "codemirror_mode": {
    "name": "ipython",
    "version": 3
   },
   "file_extension": ".py",
   "mimetype": "text/x-python",
   "name": "python",
   "nbconvert_exporter": "python",
   "pygments_lexer": "ipython3",
   "version": "3.4.3"
  }
 },
 "nbformat": 4,
 "nbformat_minor": 0
}
