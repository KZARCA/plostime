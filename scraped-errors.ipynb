{
 "cells": [
  {
   "cell_type": "code",
   "execution_count": 26,
   "metadata": {
    "collapsed": true
   },
   "outputs": [],
   "source": [
    "import re\n",
    "import json\n",
    "\n",
    "import pandas\n",
    "import sklearn.tree"
   ]
  },
  {
   "cell_type": "code",
   "execution_count": null,
   "metadata": {
    "collapsed": true
   },
   "outputs": [],
   "source": []
  },
  {
   "cell_type": "code",
   "execution_count": 32,
   "metadata": {
    "collapsed": true
   },
   "outputs": [],
   "source": [
    "pubmed_df = pandas.read_table('data/pubmed-plos.tsv.gz', compression='gzip')\n",
    "success_df = pandas.read_table('data/dates.tsv')"
   ]
  },
  {
   "cell_type": "code",
   "execution_count": 12,
   "metadata": {
    "collapsed": true
   },
   "outputs": [],
   "source": [
    "with open('scraper.ipynb') as read_file:\n",
    "    notebook = json.load(read_file)"
   ]
  },
  {
   "cell_type": "code",
   "execution_count": 13,
   "metadata": {
    "collapsed": false
   },
   "outputs": [],
   "source": [
    "for cell in notebook['cells']:\n",
    "    if cell['execution_count'] == 7:\n",
    "        outputs = cell['outputs']\n",
    "        break\n",
    "\n",
    "texts = list()\n",
    "for output in outputs:\n",
    "    texts.extend(output['text'])\n",
    "\n",
    "text = ''.join(texts)"
   ]
  },
  {
   "cell_type": "code",
   "execution_count": null,
   "metadata": {
    "collapsed": false
   },
   "outputs": [],
   "source": []
  },
  {
   "cell_type": "code",
   "execution_count": 14,
   "metadata": {
    "collapsed": false
   },
   "outputs": [],
   "source": [
    "rows = list()\n",
    "matches = re.findall(r'10\\.1371.+?(?=10\\.1371)', text, flags=re.DOTALL)\n",
    "for match in matches:\n",
    "    doi, error = match.split(' ', 1)\n",
    "    rows.append((doi, error))\n",
    "\n",
    "error_df = pandas.DataFrame(rows, columns=['doi', 'error'])"
   ]
  },
  {
   "cell_type": "code",
   "execution_count": 15,
   "metadata": {
    "collapsed": false
   },
   "outputs": [
    {
     "data": {
      "text/html": [
       "<div>\n",
       "<table border=\"1\" class=\"dataframe\">\n",
       "  <thead>\n",
       "    <tr style=\"text-align: right;\">\n",
       "      <th></th>\n",
       "      <th>error</th>\n",
       "      <th>count</th>\n",
       "      <th>error_id</th>\n",
       "    </tr>\n",
       "  </thead>\n",
       "  <tbody>\n",
       "    <tr>\n",
       "      <th>0</th>\n",
       "      <td>'NoneType' object is not subscriptable\\n</td>\n",
       "      <td>285</td>\n",
       "      <td>1</td>\n",
       "    </tr>\n",
       "    <tr>\n",
       "      <th>1</th>\n",
       "      <td>'NoneType' object is not subscriptable\\n\\nErro...</td>\n",
       "      <td>155</td>\n",
       "      <td>2</td>\n",
       "    </tr>\n",
       "    <tr>\n",
       "      <th>2</th>\n",
       "      <td>'NoneType' object is not subscriptable\\n\\nErro...</td>\n",
       "      <td>1</td>\n",
       "      <td>3</td>\n",
       "    </tr>\n",
       "    <tr>\n",
       "      <th>3</th>\n",
       "      <td>'NoneType' object is not subscriptable\\n/home/...</td>\n",
       "      <td>1</td>\n",
       "      <td>4</td>\n",
       "    </tr>\n",
       "    <tr>\n",
       "      <th>4</th>\n",
       "      <td>UserWarning: Error in function (type, msg, asE...</td>\n",
       "      <td>1</td>\n",
       "      <td>5</td>\n",
       "    </tr>\n",
       "    <tr>\n",
       "      <th>5</th>\n",
       "      <td>need more than 1 value to unpack\\n</td>\n",
       "      <td>495</td>\n",
       "      <td>6</td>\n",
       "    </tr>\n",
       "    <tr>\n",
       "      <th>6</th>\n",
       "      <td>need more than 1 value to unpack\\n\\nError in f...</td>\n",
       "      <td>281</td>\n",
       "      <td>7</td>\n",
       "    </tr>\n",
       "    <tr>\n",
       "      <th>7</th>\n",
       "      <td>need more than 1 value to unpack\\n\\nError in f...</td>\n",
       "      <td>1</td>\n",
       "      <td>8</td>\n",
       "    </tr>\n",
       "    <tr>\n",
       "      <th>8</th>\n",
       "      <td>need more than 1 value to unpack\\n\\nError in x...</td>\n",
       "      <td>1</td>\n",
       "      <td>9</td>\n",
       "    </tr>\n",
       "    <tr>\n",
       "      <th>9</th>\n",
       "      <td>need more than 2 values to unpack\\n</td>\n",
       "      <td>1</td>\n",
       "      <td>10</td>\n",
       "    </tr>\n",
       "    <tr>\n",
       "      <th>10</th>\n",
       "      <td>need more than 2 values to unpack\\n\\nError in ...</td>\n",
       "      <td>1</td>\n",
       "      <td>11</td>\n",
       "    </tr>\n",
       "  </tbody>\n",
       "</table>\n",
       "</div>"
      ],
      "text/plain": [
       "                                                error  count  error_id\n",
       "0            'NoneType' object is not subscriptable\\n    285         1\n",
       "1   'NoneType' object is not subscriptable\\n\\nErro...    155         2\n",
       "2   'NoneType' object is not subscriptable\\n\\nErro...      1         3\n",
       "3   'NoneType' object is not subscriptable\\n/home/...      1         4\n",
       "4   UserWarning: Error in function (type, msg, asE...      1         5\n",
       "5                  need more than 1 value to unpack\\n    495         6\n",
       "6   need more than 1 value to unpack\\n\\nError in f...    281         7\n",
       "7   need more than 1 value to unpack\\n\\nError in f...      1         8\n",
       "8   need more than 1 value to unpack\\n\\nError in x...      1         9\n",
       "9                 need more than 2 values to unpack\\n      1        10\n",
       "10  need more than 2 values to unpack\\n\\nError in ...      1        11"
      ]
     },
     "execution_count": 15,
     "metadata": {},
     "output_type": "execute_result"
    }
   ],
   "source": [
    "error_count_df = error_df.groupby('error').apply(lambda df: pandas.Series({'count': len(df)})).reset_index()\n",
    "error_count_df['error_id'] = range(1, 1 + len(error_count_df))\n",
    "error_count_df"
   ]
  },
  {
   "cell_type": "code",
   "execution_count": 16,
   "metadata": {
    "collapsed": false
   },
   "outputs": [],
   "source": [
    "error_df = error_df.merge(error_count_df)\n",
    "error_df = error_df[error_df['count'] > 1]"
   ]
  },
  {
   "cell_type": "code",
   "execution_count": 17,
   "metadata": {
    "collapsed": false
   },
   "outputs": [
    {
     "data": {
      "text/html": [
       "<div>\n",
       "<table border=\"1\" class=\"dataframe\">\n",
       "  <thead>\n",
       "    <tr style=\"text-align: right;\">\n",
       "      <th></th>\n",
       "      <th>doi</th>\n",
       "      <th>error</th>\n",
       "      <th>count</th>\n",
       "      <th>error_id</th>\n",
       "    </tr>\n",
       "  </thead>\n",
       "  <tbody>\n",
       "    <tr>\n",
       "      <th>0</th>\n",
       "      <td>10.1371/journal.pmed.0010016</td>\n",
       "      <td>need more than 1 value to unpack\\n\\nError in f...</td>\n",
       "      <td>281</td>\n",
       "      <td>7</td>\n",
       "    </tr>\n",
       "    <tr>\n",
       "      <th>1</th>\n",
       "      <td>10.1371/journal.ppat.1002451</td>\n",
       "      <td>need more than 1 value to unpack\\n\\nError in f...</td>\n",
       "      <td>281</td>\n",
       "      <td>7</td>\n",
       "    </tr>\n",
       "    <tr>\n",
       "      <th>2</th>\n",
       "      <td>10.1371/journal.pmed.0030126</td>\n",
       "      <td>need more than 1 value to unpack\\n\\nError in f...</td>\n",
       "      <td>281</td>\n",
       "      <td>7</td>\n",
       "    </tr>\n",
       "    <tr>\n",
       "      <th>3</th>\n",
       "      <td>10.1371/journal.pbio.1001436</td>\n",
       "      <td>need more than 1 value to unpack\\n\\nError in f...</td>\n",
       "      <td>281</td>\n",
       "      <td>7</td>\n",
       "    </tr>\n",
       "    <tr>\n",
       "      <th>4</th>\n",
       "      <td>10.1371/journal.ppat.1004806</td>\n",
       "      <td>need more than 1 value to unpack\\n\\nError in f...</td>\n",
       "      <td>281</td>\n",
       "      <td>7</td>\n",
       "    </tr>\n",
       "  </tbody>\n",
       "</table>\n",
       "</div>"
      ],
      "text/plain": [
       "                            doi  \\\n",
       "0  10.1371/journal.pmed.0010016   \n",
       "1  10.1371/journal.ppat.1002451   \n",
       "2  10.1371/journal.pmed.0030126   \n",
       "3  10.1371/journal.pbio.1001436   \n",
       "4  10.1371/journal.ppat.1004806   \n",
       "\n",
       "                                               error  count  error_id  \n",
       "0  need more than 1 value to unpack\\n\\nError in f...    281         7  \n",
       "1  need more than 1 value to unpack\\n\\nError in f...    281         7  \n",
       "2  need more than 1 value to unpack\\n\\nError in f...    281         7  \n",
       "3  need more than 1 value to unpack\\n\\nError in f...    281         7  \n",
       "4  need more than 1 value to unpack\\n\\nError in f...    281         7  "
      ]
     },
     "execution_count": 17,
     "metadata": {},
     "output_type": "execute_result"
    }
   ],
   "source": [
    "error_df.head()"
   ]
  },
  {
   "cell_type": "code",
   "execution_count": 18,
   "metadata": {
    "collapsed": false
   },
   "outputs": [
    {
     "data": {
      "text/html": [
       "<div>\n",
       "<table border=\"1\" class=\"dataframe\">\n",
       "  <thead>\n",
       "    <tr style=\"text-align: right;\">\n",
       "      <th></th>\n",
       "      <th>doi</th>\n",
       "      <th>received</th>\n",
       "      <th>accepted</th>\n",
       "      <th>published</th>\n",
       "    </tr>\n",
       "  </thead>\n",
       "  <tbody>\n",
       "    <tr>\n",
       "      <th>0</th>\n",
       "      <td>10.1371/journal.ppat.1004931</td>\n",
       "      <td>2014-11-14</td>\n",
       "      <td>2015-05-04</td>\n",
       "      <td>2015-06-09</td>\n",
       "    </tr>\n",
       "    <tr>\n",
       "      <th>1</th>\n",
       "      <td>10.1371/journal.pntd.0001279</td>\n",
       "      <td>2010-10-18</td>\n",
       "      <td>2011-07-05</td>\n",
       "      <td>2011-08-16</td>\n",
       "    </tr>\n",
       "    <tr>\n",
       "      <th>2</th>\n",
       "      <td>10.1371/journal.pbio.1001585</td>\n",
       "      <td>2013-02-26</td>\n",
       "      <td>2013-05-02</td>\n",
       "      <td>2013-06-11</td>\n",
       "    </tr>\n",
       "    <tr>\n",
       "      <th>3</th>\n",
       "      <td>10.1371/journal.pmed.0050101</td>\n",
       "      <td>2007-08-14</td>\n",
       "      <td>2008-03-18</td>\n",
       "      <td>2008-05-27</td>\n",
       "    </tr>\n",
       "    <tr>\n",
       "      <th>4</th>\n",
       "      <td>10.1371/journal.pcbi.1003558</td>\n",
       "      <td>2013-07-09</td>\n",
       "      <td>2014-02-19</td>\n",
       "      <td>2014-04-17</td>\n",
       "    </tr>\n",
       "  </tbody>\n",
       "</table>\n",
       "</div>"
      ],
      "text/plain": [
       "                            doi    received    accepted   published\n",
       "0  10.1371/journal.ppat.1004931  2014-11-14  2015-05-04  2015-06-09\n",
       "1  10.1371/journal.pntd.0001279  2010-10-18  2011-07-05  2011-08-16\n",
       "2  10.1371/journal.pbio.1001585  2013-02-26  2013-05-02  2013-06-11\n",
       "3  10.1371/journal.pmed.0050101  2007-08-14  2008-03-18  2008-05-27\n",
       "4  10.1371/journal.pcbi.1003558  2013-07-09  2014-02-19  2014-04-17"
      ]
     },
     "execution_count": 18,
     "metadata": {},
     "output_type": "execute_result"
    }
   ],
   "source": [
    "success_df.head()"
   ]
  },
  {
   "cell_type": "code",
   "execution_count": 19,
   "metadata": {
    "collapsed": false
   },
   "outputs": [],
   "source": [
    "success_df = success_df[['doi']]\n",
    "success_df['error_id'] = 0\n",
    "outcome_df = pandas.concat([success_df, error_df[['doi', 'error_id']]])"
   ]
  },
  {
   "cell_type": "code",
   "execution_count": 20,
   "metadata": {
    "collapsed": false
   },
   "outputs": [
    {
     "data": {
      "text/html": [
       "<div>\n",
       "<table border=\"1\" class=\"dataframe\">\n",
       "  <thead>\n",
       "    <tr style=\"text-align: right;\">\n",
       "      <th></th>\n",
       "      <th>doi</th>\n",
       "      <th>error_id</th>\n",
       "      <th>date_accepted</th>\n",
       "      <th>date_epublish</th>\n",
       "      <th>date_medline</th>\n",
       "      <th>date_pubmed</th>\n",
       "      <th>date_received</th>\n",
       "      <th>epub_date</th>\n",
       "      <th>journal</th>\n",
       "      <th>journal_abbrev</th>\n",
       "      <th>pubdate</th>\n",
       "      <th>pubmed_id</th>\n",
       "      <th>pubtype</th>\n",
       "    </tr>\n",
       "  </thead>\n",
       "  <tbody>\n",
       "    <tr>\n",
       "      <th>0</th>\n",
       "      <td>10.1371/journal.ppat.1004931</td>\n",
       "      <td>0</td>\n",
       "      <td>2015-05-04</td>\n",
       "      <td>2015-06-09</td>\n",
       "      <td>2015-06-10 06:00:00</td>\n",
       "      <td>2015-06-10 06:00:00</td>\n",
       "      <td>2014-11-14</td>\n",
       "      <td>2015-06-09</td>\n",
       "      <td>PLoS pathogens</td>\n",
       "      <td>PLoS Pathog</td>\n",
       "      <td>2015 Jun</td>\n",
       "      <td>26057557</td>\n",
       "      <td>Journal Article</td>\n",
       "    </tr>\n",
       "    <tr>\n",
       "      <th>1</th>\n",
       "      <td>10.1371/journal.pntd.0001279</td>\n",
       "      <td>0</td>\n",
       "      <td>2011-07-05</td>\n",
       "      <td>2011-08-16</td>\n",
       "      <td>2011-12-17 06:00:00</td>\n",
       "      <td>2011-08-23 06:00:00</td>\n",
       "      <td>2010-10-18</td>\n",
       "      <td>2011-08-16</td>\n",
       "      <td>PLoS neglected tropical diseases</td>\n",
       "      <td>PLoS Negl Trop Dis</td>\n",
       "      <td>2011 Aug</td>\n",
       "      <td>21858242</td>\n",
       "      <td>Journal Article</td>\n",
       "    </tr>\n",
       "    <tr>\n",
       "      <th>2</th>\n",
       "      <td>10.1371/journal.pbio.1001585</td>\n",
       "      <td>0</td>\n",
       "      <td>2013-05-02</td>\n",
       "      <td>2013-06-11</td>\n",
       "      <td>2014-01-07 06:00:00</td>\n",
       "      <td>2013-06-19 06:00:00</td>\n",
       "      <td>2013-02-26</td>\n",
       "      <td>2013-06-11</td>\n",
       "      <td>PLoS biology</td>\n",
       "      <td>PLoS Biol</td>\n",
       "      <td>2013</td>\n",
       "      <td>23776409</td>\n",
       "      <td>Journal Article</td>\n",
       "    </tr>\n",
       "    <tr>\n",
       "      <th>3</th>\n",
       "      <td>10.1371/journal.pmed.0050101</td>\n",
       "      <td>0</td>\n",
       "      <td>2008-03-18</td>\n",
       "      <td>NaT</td>\n",
       "      <td>2008-08-08 09:00:00</td>\n",
       "      <td>2008-05-30 09:00:00</td>\n",
       "      <td>2007-08-14</td>\n",
       "      <td>NaT</td>\n",
       "      <td>PLoS medicine</td>\n",
       "      <td>PLoS Med</td>\n",
       "      <td>2008 May 27</td>\n",
       "      <td>18507497</td>\n",
       "      <td>Journal Article</td>\n",
       "    </tr>\n",
       "    <tr>\n",
       "      <th>4</th>\n",
       "      <td>10.1371/journal.pcbi.1003558</td>\n",
       "      <td>0</td>\n",
       "      <td>2014-02-19</td>\n",
       "      <td>2014-04-17</td>\n",
       "      <td>2014-12-15 06:00:00</td>\n",
       "      <td>2014-04-20 06:00:00</td>\n",
       "      <td>2013-07-09</td>\n",
       "      <td>2014-04-17</td>\n",
       "      <td>PLoS computational biology</td>\n",
       "      <td>PLoS Comput Biol</td>\n",
       "      <td>2014 Apr</td>\n",
       "      <td>24743341</td>\n",
       "      <td>Journal Article</td>\n",
       "    </tr>\n",
       "  </tbody>\n",
       "</table>\n",
       "</div>"
      ],
      "text/plain": [
       "                            doi  error_id date_accepted date_epublish  \\\n",
       "0  10.1371/journal.ppat.1004931         0    2015-05-04    2015-06-09   \n",
       "1  10.1371/journal.pntd.0001279         0    2011-07-05    2011-08-16   \n",
       "2  10.1371/journal.pbio.1001585         0    2013-05-02    2013-06-11   \n",
       "3  10.1371/journal.pmed.0050101         0    2008-03-18           NaT   \n",
       "4  10.1371/journal.pcbi.1003558         0    2014-02-19    2014-04-17   \n",
       "\n",
       "         date_medline         date_pubmed date_received  epub_date  \\\n",
       "0 2015-06-10 06:00:00 2015-06-10 06:00:00    2014-11-14 2015-06-09   \n",
       "1 2011-12-17 06:00:00 2011-08-23 06:00:00    2010-10-18 2011-08-16   \n",
       "2 2014-01-07 06:00:00 2013-06-19 06:00:00    2013-02-26 2013-06-11   \n",
       "3 2008-08-08 09:00:00 2008-05-30 09:00:00    2007-08-14        NaT   \n",
       "4 2014-12-15 06:00:00 2014-04-20 06:00:00    2013-07-09 2014-04-17   \n",
       "\n",
       "                            journal      journal_abbrev      pubdate  \\\n",
       "0                    PLoS pathogens         PLoS Pathog     2015 Jun   \n",
       "1  PLoS neglected tropical diseases  PLoS Negl Trop Dis     2011 Aug   \n",
       "2                      PLoS biology           PLoS Biol         2013   \n",
       "3                     PLoS medicine            PLoS Med  2008 May 27   \n",
       "4        PLoS computational biology    PLoS Comput Biol     2014 Apr   \n",
       "\n",
       "   pubmed_id          pubtype  \n",
       "0   26057557  Journal Article  \n",
       "1   21858242  Journal Article  \n",
       "2   23776409  Journal Article  \n",
       "3   18507497  Journal Article  \n",
       "4   24743341  Journal Article  "
      ]
     },
     "execution_count": 20,
     "metadata": {},
     "output_type": "execute_result"
    }
   ],
   "source": [
    "xy_df = outcome_df.merge(pubmed_df)\n",
    "for column in ['date_accepted', 'date_epublish', 'date_medline', 'date_pubmed', 'date_received', 'epub_date']:\n",
    "    xy_df[column] = pandas.to_datetime(xy_df[column])\n",
    "xy_df.head()"
   ]
  },
  {
   "cell_type": "code",
   "execution_count": 21,
   "metadata": {
    "collapsed": false
   },
   "outputs": [],
   "source": [
    "y = xy_df.error_id\n",
    "x = xy_df.drop(['error_id'], axis=1)\n",
    "#x = pandas.get_dummies(x)\n"
   ]
  },
  {
   "cell_type": "code",
   "execution_count": 22,
   "metadata": {
    "collapsed": false
   },
   "outputs": [],
   "source": [
    "import sklearn.preprocessing\n",
    "encoder = sklearn.preprocessing.LabelEncoder()\n",
    "x_enc = x.copy()\n",
    "for column in x_enc.columns:\n",
    "    x_enc[column] = encoder.fit_transform(x_enc[column])"
   ]
  },
  {
   "cell_type": "code",
   "execution_count": 23,
   "metadata": {
    "collapsed": false
   },
   "outputs": [
    {
     "data": {
      "text/html": [
       "<div>\n",
       "<table border=\"1\" class=\"dataframe\">\n",
       "  <thead>\n",
       "    <tr style=\"text-align: right;\">\n",
       "      <th></th>\n",
       "      <th>doi</th>\n",
       "      <th>date_accepted</th>\n",
       "      <th>date_epublish</th>\n",
       "      <th>date_medline</th>\n",
       "      <th>date_pubmed</th>\n",
       "      <th>date_received</th>\n",
       "      <th>epub_date</th>\n",
       "      <th>journal</th>\n",
       "      <th>journal_abbrev</th>\n",
       "      <th>pubdate</th>\n",
       "      <th>pubmed_id</th>\n",
       "      <th>pubtype</th>\n",
       "    </tr>\n",
       "  </thead>\n",
       "  <tbody>\n",
       "    <tr>\n",
       "      <th>0</th>\n",
       "      <td>10.1371/journal.ppat.1004931</td>\n",
       "      <td>2015-05-04</td>\n",
       "      <td>2015-06-09</td>\n",
       "      <td>2015-06-10 06:00:00</td>\n",
       "      <td>2015-06-10 06:00:00</td>\n",
       "      <td>2014-11-14</td>\n",
       "      <td>2015-06-09</td>\n",
       "      <td>PLoS pathogens</td>\n",
       "      <td>PLoS Pathog</td>\n",
       "      <td>2015 Jun</td>\n",
       "      <td>26057557</td>\n",
       "      <td>Journal Article</td>\n",
       "    </tr>\n",
       "    <tr>\n",
       "      <th>1</th>\n",
       "      <td>10.1371/journal.pntd.0001279</td>\n",
       "      <td>2011-07-05</td>\n",
       "      <td>2011-08-16</td>\n",
       "      <td>2011-12-17 06:00:00</td>\n",
       "      <td>2011-08-23 06:00:00</td>\n",
       "      <td>2010-10-18</td>\n",
       "      <td>2011-08-16</td>\n",
       "      <td>PLoS neglected tropical diseases</td>\n",
       "      <td>PLoS Negl Trop Dis</td>\n",
       "      <td>2011 Aug</td>\n",
       "      <td>21858242</td>\n",
       "      <td>Journal Article</td>\n",
       "    </tr>\n",
       "    <tr>\n",
       "      <th>2</th>\n",
       "      <td>10.1371/journal.pbio.1001585</td>\n",
       "      <td>2013-05-02</td>\n",
       "      <td>2013-06-11</td>\n",
       "      <td>2014-01-07 06:00:00</td>\n",
       "      <td>2013-06-19 06:00:00</td>\n",
       "      <td>2013-02-26</td>\n",
       "      <td>2013-06-11</td>\n",
       "      <td>PLoS biology</td>\n",
       "      <td>PLoS Biol</td>\n",
       "      <td>2013</td>\n",
       "      <td>23776409</td>\n",
       "      <td>Journal Article</td>\n",
       "    </tr>\n",
       "    <tr>\n",
       "      <th>3</th>\n",
       "      <td>10.1371/journal.pmed.0050101</td>\n",
       "      <td>2008-03-18</td>\n",
       "      <td>NaT</td>\n",
       "      <td>2008-08-08 09:00:00</td>\n",
       "      <td>2008-05-30 09:00:00</td>\n",
       "      <td>2007-08-14</td>\n",
       "      <td>NaT</td>\n",
       "      <td>PLoS medicine</td>\n",
       "      <td>PLoS Med</td>\n",
       "      <td>2008 May 27</td>\n",
       "      <td>18507497</td>\n",
       "      <td>Journal Article</td>\n",
       "    </tr>\n",
       "    <tr>\n",
       "      <th>4</th>\n",
       "      <td>10.1371/journal.pcbi.1003558</td>\n",
       "      <td>2014-02-19</td>\n",
       "      <td>2014-04-17</td>\n",
       "      <td>2014-12-15 06:00:00</td>\n",
       "      <td>2014-04-20 06:00:00</td>\n",
       "      <td>2013-07-09</td>\n",
       "      <td>2014-04-17</td>\n",
       "      <td>PLoS computational biology</td>\n",
       "      <td>PLoS Comput Biol</td>\n",
       "      <td>2014 Apr</td>\n",
       "      <td>24743341</td>\n",
       "      <td>Journal Article</td>\n",
       "    </tr>\n",
       "  </tbody>\n",
       "</table>\n",
       "</div>"
      ],
      "text/plain": [
       "                            doi date_accepted date_epublish  \\\n",
       "0  10.1371/journal.ppat.1004931    2015-05-04    2015-06-09   \n",
       "1  10.1371/journal.pntd.0001279    2011-07-05    2011-08-16   \n",
       "2  10.1371/journal.pbio.1001585    2013-05-02    2013-06-11   \n",
       "3  10.1371/journal.pmed.0050101    2008-03-18           NaT   \n",
       "4  10.1371/journal.pcbi.1003558    2014-02-19    2014-04-17   \n",
       "\n",
       "         date_medline         date_pubmed date_received  epub_date  \\\n",
       "0 2015-06-10 06:00:00 2015-06-10 06:00:00    2014-11-14 2015-06-09   \n",
       "1 2011-12-17 06:00:00 2011-08-23 06:00:00    2010-10-18 2011-08-16   \n",
       "2 2014-01-07 06:00:00 2013-06-19 06:00:00    2013-02-26 2013-06-11   \n",
       "3 2008-08-08 09:00:00 2008-05-30 09:00:00    2007-08-14        NaT   \n",
       "4 2014-12-15 06:00:00 2014-04-20 06:00:00    2013-07-09 2014-04-17   \n",
       "\n",
       "                            journal      journal_abbrev      pubdate  \\\n",
       "0                    PLoS pathogens         PLoS Pathog     2015 Jun   \n",
       "1  PLoS neglected tropical diseases  PLoS Negl Trop Dis     2011 Aug   \n",
       "2                      PLoS biology           PLoS Biol         2013   \n",
       "3                     PLoS medicine            PLoS Med  2008 May 27   \n",
       "4        PLoS computational biology    PLoS Comput Biol     2014 Apr   \n",
       "\n",
       "   pubmed_id          pubtype  \n",
       "0   26057557  Journal Article  \n",
       "1   21858242  Journal Article  \n",
       "2   23776409  Journal Article  \n",
       "3   18507497  Journal Article  \n",
       "4   24743341  Journal Article  "
      ]
     },
     "execution_count": 23,
     "metadata": {},
     "output_type": "execute_result"
    }
   ],
   "source": [
    "x.head()"
   ]
  },
  {
   "cell_type": "code",
   "execution_count": 24,
   "metadata": {
    "collapsed": false
   },
   "outputs": [],
   "source": [
    "classifier = sklearn.tree.DecisionTreeClassifier(max_depth = 3)\n",
    "classifier = classifier.fit(x_enc.as_matrix(), y.as_matrix())"
   ]
  },
  {
   "cell_type": "code",
   "execution_count": null,
   "metadata": {
    "collapsed": false
   },
   "outputs": [],
   "source": []
  },
  {
   "cell_type": "code",
   "execution_count": 27,
   "metadata": {
    "collapsed": false
   },
   "outputs": [],
   "source": [
    "sklearn.tree.export_graphviz(classifier, 'figure/error-classifier.dot')"
   ]
  },
  {
   "cell_type": "code",
   "execution_count": 28,
   "metadata": {
    "collapsed": false
   },
   "outputs": [],
   "source": [
    "import pydotplus\n",
    "import io"
   ]
  },
  {
   "cell_type": "code",
   "execution_count": 29,
   "metadata": {
    "collapsed": false
   },
   "outputs": [
    {
     "data": {
      "text/plain": [
       "True"
      ]
     },
     "execution_count": 29,
     "metadata": {},
     "output_type": "execute_result"
    }
   ],
   "source": [
    "with open('figure/error-classifier.dot') as read_file:\n",
    "    graph = pydotplus.graph_from_dot_data(read_file.read())\n",
    "graph.write_pdf('figure/error-classifier.pdf') "
   ]
  },
  {
   "cell_type": "code",
   "execution_count": 31,
   "metadata": {
    "collapsed": false
   },
   "outputs": [
    {
     "data": {
      "text/plain": [
       "[\"'NoneType' object is not subscriptable\\n\",\n",
       " \"'NoneType' object is not subscriptable\\n\\nError in function (type, msg, asError = TRUE)  : \\n  Couldn't resolve host 'biology.plosjournals.org'\\n\",\n",
       " \"'NoneType' object is not subscriptable\\n\\nError in parse.response(r, parser, encoding = encoding) : \\n  client error: (404) Not Found\\n\",\n",
       " \"'NoneType' object is not subscriptable\\n/home/dhimmels/anaconda3/lib/python3.4/site-packages/rpy2/robjects/functions.py:106: UserWarning: Error in function (type, msg, asError = TRUE)  : \\n  Recv failure: Connection reset by peer\\n\\n  res = super(Function, self).__call__(*new_args, **new_kwargs)\\n/home/dhimmels/anaconda3/lib/python3.4/site-packages/rpy2/robjects/functions.py:106: UserWarning: Error in parse.response(r, parser, encoding = encoding) : \\n  client error: (404) Not Found\\n\\n  res = super(Function, self).__call__(*new_args, **new_kwargs)\\n\\nError in function (type, msg, asError = TRUE)  : \\n  Couldn't resolve host 'biology.plosjournals.org'\\n\",\n",
       " \"UserWarning: Error in function (type, msg, asError = TRUE)  : \\n  Couldn't resolve host 'biology.plosjournals.org'\\n\\n  res = super(Function, self).__call__(*new_args, **new_kwargs)\\n/home/dhimmels/anaconda3/lib/python3.4/site-packages/rpy2/robjects/functions.py:106: UserWarning: Error in function (type, msg, asError = TRUE)  : \\n  Couldn't resolve host 'medicine.plosjournals.org'\\n\\n  res = super(Function, self).__call__(*new_args, **new_kwargs)\\n need more than 1 value to unpack\\n\\nError in function (type, msg, asError = TRUE)  : \\n  Couldn't resolve host 'medicine.plosjournals.org'\\n\",\n",
       " 'need more than 1 value to unpack\\n',\n",
       " \"need more than 1 value to unpack\\n\\nError in function (type, msg, asError = TRUE)  : \\n  Couldn't resolve host 'biology.plosjournals.org'\\n\",\n",
       " 'need more than 1 value to unpack\\n\\nError in function (type, msg, asError = TRUE)  : \\n  Recv failure: Connection reset by peer\\n',\n",
       " 'need more than 1 value to unpack\\n\\nError in xml_apply(x, XML::xmlValue, ..., .type = character(1)) : \\n  Unknown input of class: NULL\\n',\n",
       " 'need more than 2 values to unpack\\n',\n",
       " \"need more than 2 values to unpack\\n\\nError in function (type, msg, asError = TRUE)  : \\n  Couldn't resolve host 'biology.plosjournals.org'\\n\"]"
      ]
     },
     "execution_count": 31,
     "metadata": {},
     "output_type": "execute_result"
    }
   ],
   "source": [
    "list(error_count_df.error)"
   ]
  },
  {
   "cell_type": "code",
   "execution_count": null,
   "metadata": {
    "collapsed": true
   },
   "outputs": [],
   "source": []
  }
 ],
 "metadata": {
  "kernelspec": {
   "display_name": "Python 3",
   "language": "python",
   "name": "python3"
  },
  "language_info": {
   "codemirror_mode": {
    "name": "ipython",
    "version": 3
   },
   "file_extension": ".py",
   "mimetype": "text/x-python",
   "name": "python",
   "nbconvert_exporter": "python",
   "pygments_lexer": "ipython3",
   "version": "3.4.3"
  }
 },
 "nbformat": 4,
 "nbformat_minor": 0
}
