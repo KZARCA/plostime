{
 "cells": [
  {
   "cell_type": "code",
   "execution_count": 24,
   "metadata": {
    "collapsed": false
   },
   "outputs": [],
   "source": [
    "import pandas\n",
    "import seaborn\n",
    "import matplotlib.pyplot as plt\n",
    "\n",
    "%matplotlib inline"
   ]
  },
  {
   "cell_type": "code",
   "execution_count": null,
   "metadata": {
    "collapsed": true
   },
   "outputs": [],
   "source": []
  },
  {
   "cell_type": "code",
   "execution_count": 2,
   "metadata": {
    "collapsed": true
   },
   "outputs": [],
   "source": [
    "pubmed_df = pandas.read_table('data/pubmed-since-2104.tsv.gz', compression='gzip')"
   ]
  },
  {
   "cell_type": "code",
   "execution_count": 4,
   "metadata": {
    "collapsed": false
   },
   "outputs": [
    {
     "data": {
      "text/plain": [
       "1572538"
      ]
     },
     "execution_count": 4,
     "metadata": {},
     "output_type": "execute_result"
    }
   ],
   "source": [
    "len(pubmed_df)"
   ]
  },
  {
   "cell_type": "code",
   "execution_count": 5,
   "metadata": {
    "collapsed": false
   },
   "outputs": [
    {
     "data": {
      "text/html": [
       "<div>\n",
       "<table border=\"1\" class=\"dataframe\">\n",
       "  <thead>\n",
       "    <tr style=\"text-align: right;\">\n",
       "      <th></th>\n",
       "      <th>date_accepted</th>\n",
       "      <th>date_epublish</th>\n",
       "      <th>date_medline</th>\n",
       "      <th>date_pubmed</th>\n",
       "      <th>date_received</th>\n",
       "      <th>doi</th>\n",
       "      <th>epub_date</th>\n",
       "      <th>journal</th>\n",
       "      <th>journal_abbrev</th>\n",
       "      <th>pubdate</th>\n",
       "      <th>pubmed_id</th>\n",
       "      <th>pubtype</th>\n",
       "    </tr>\n",
       "  </thead>\n",
       "  <tbody>\n",
       "    <tr>\n",
       "      <th>0</th>\n",
       "      <td>NaN</td>\n",
       "      <td>NaN</td>\n",
       "      <td>2015/06/26 06:00</td>\n",
       "      <td>2015/06/26 06:00</td>\n",
       "      <td>NaN</td>\n",
       "      <td>10.4244/EIJY15M06_04</td>\n",
       "      <td>2015 Jun 26</td>\n",
       "      <td>EuroIntervention : journal of EuroPCR in colla...</td>\n",
       "      <td>EuroIntervention</td>\n",
       "      <td>2015 Jun 26</td>\n",
       "      <td>26111405</td>\n",
       "      <td>Journal Article</td>\n",
       "    </tr>\n",
       "    <tr>\n",
       "      <th>1</th>\n",
       "      <td>NaN</td>\n",
       "      <td>NaN</td>\n",
       "      <td>2015/06/26 06:00</td>\n",
       "      <td>2015/06/26 06:00</td>\n",
       "      <td>NaN</td>\n",
       "      <td>10.1109/JBHI.2015.2448111</td>\n",
       "      <td>2015 Jun 22</td>\n",
       "      <td>IEEE journal of biomedical and health informatics</td>\n",
       "      <td>IEEE J Biomed Health Inform</td>\n",
       "      <td>2015 Jun 22</td>\n",
       "      <td>26111404</td>\n",
       "      <td>Journal Article</td>\n",
       "    </tr>\n",
       "    <tr>\n",
       "      <th>2</th>\n",
       "      <td>NaN</td>\n",
       "      <td>NaN</td>\n",
       "      <td>2015/06/26 06:00</td>\n",
       "      <td>2015/06/26 06:00</td>\n",
       "      <td>NaN</td>\n",
       "      <td>10.1109/TNNLS.2015.2442256</td>\n",
       "      <td>2015 Jun 22</td>\n",
       "      <td>IEEE transactions on neural networks and learn...</td>\n",
       "      <td>IEEE Trans Neural Netw Learn Syst</td>\n",
       "      <td>2015 Jun 22</td>\n",
       "      <td>26111403</td>\n",
       "      <td>Journal Article</td>\n",
       "    </tr>\n",
       "    <tr>\n",
       "      <th>3</th>\n",
       "      <td>NaN</td>\n",
       "      <td>NaN</td>\n",
       "      <td>2015/06/26 06:00</td>\n",
       "      <td>2015/06/26 06:00</td>\n",
       "      <td>NaN</td>\n",
       "      <td>10.1109/TNNLS.2015.2442233</td>\n",
       "      <td>2015 Jun 23</td>\n",
       "      <td>IEEE transactions on neural networks and learn...</td>\n",
       "      <td>IEEE Trans Neural Netw Learn Syst</td>\n",
       "      <td>2015 Jun 23</td>\n",
       "      <td>26111402</td>\n",
       "      <td>Journal Article</td>\n",
       "    </tr>\n",
       "    <tr>\n",
       "      <th>4</th>\n",
       "      <td>NaN</td>\n",
       "      <td>NaN</td>\n",
       "      <td>2015/06/26 06:00</td>\n",
       "      <td>2015/06/26 06:00</td>\n",
       "      <td>NaN</td>\n",
       "      <td>10.1109/TNNLS.2015.2441749</td>\n",
       "      <td>2015 Jun 24</td>\n",
       "      <td>IEEE transactions on neural networks and learn...</td>\n",
       "      <td>IEEE Trans Neural Netw Learn Syst</td>\n",
       "      <td>2015 Jun 24</td>\n",
       "      <td>26111401</td>\n",
       "      <td>Journal Article</td>\n",
       "    </tr>\n",
       "  </tbody>\n",
       "</table>\n",
       "</div>"
      ],
      "text/plain": [
       "  date_accepted date_epublish      date_medline       date_pubmed  \\\n",
       "0           NaN           NaN  2015/06/26 06:00  2015/06/26 06:00   \n",
       "1           NaN           NaN  2015/06/26 06:00  2015/06/26 06:00   \n",
       "2           NaN           NaN  2015/06/26 06:00  2015/06/26 06:00   \n",
       "3           NaN           NaN  2015/06/26 06:00  2015/06/26 06:00   \n",
       "4           NaN           NaN  2015/06/26 06:00  2015/06/26 06:00   \n",
       "\n",
       "  date_received                         doi    epub_date  \\\n",
       "0           NaN        10.4244/EIJY15M06_04  2015 Jun 26   \n",
       "1           NaN   10.1109/JBHI.2015.2448111  2015 Jun 22   \n",
       "2           NaN  10.1109/TNNLS.2015.2442256  2015 Jun 22   \n",
       "3           NaN  10.1109/TNNLS.2015.2442233  2015 Jun 23   \n",
       "4           NaN  10.1109/TNNLS.2015.2441749  2015 Jun 24   \n",
       "\n",
       "                                             journal  \\\n",
       "0  EuroIntervention : journal of EuroPCR in colla...   \n",
       "1  IEEE journal of biomedical and health informatics   \n",
       "2  IEEE transactions on neural networks and learn...   \n",
       "3  IEEE transactions on neural networks and learn...   \n",
       "4  IEEE transactions on neural networks and learn...   \n",
       "\n",
       "                      journal_abbrev      pubdate  pubmed_id          pubtype  \n",
       "0                   EuroIntervention  2015 Jun 26   26111405  Journal Article  \n",
       "1        IEEE J Biomed Health Inform  2015 Jun 22   26111404  Journal Article  \n",
       "2  IEEE Trans Neural Netw Learn Syst  2015 Jun 22   26111403  Journal Article  \n",
       "3  IEEE Trans Neural Netw Learn Syst  2015 Jun 23   26111402  Journal Article  \n",
       "4  IEEE Trans Neural Netw Learn Syst  2015 Jun 24   26111401  Journal Article  "
      ]
     },
     "execution_count": 5,
     "metadata": {},
     "output_type": "execute_result"
    }
   ],
   "source": [
    "pubmed_df.head()"
   ]
  },
  {
   "cell_type": "code",
   "execution_count": 6,
   "metadata": {
    "collapsed": true
   },
   "outputs": [],
   "source": []
  },
  {
   "cell_type": "code",
   "execution_count": 9,
   "metadata": {
    "collapsed": true
   },
   "outputs": [],
   "source": [
    "journals = {\n",
    "    'PeerJ',\n",
    "    'Nucleic Acids Res',\n",
    "    'BMC Genomics',\n",
    "    'BMC Bioinformatics',\n",
    "    'eLife',\n",
    "    'Mol Syst Biol',\n",
    "    'Genome Biol',\n",
    "    'Genome Med',\n",
    "    'Nat Commun',\n",
    "    'PLoS Comput Biol',\n",
    "    'PLoS One',\n",
    "    'Database (Oxford)',\n",
    "    'J Cheminform',\n",
    "}\n"
   ]
  },
  {
   "cell_type": "code",
   "execution_count": 17,
   "metadata": {
    "collapsed": false
   },
   "outputs": [],
   "source": [
    "select_df = pubmed_df[pubmed_df.journal_abbrev.isin(journals)].copy()\n",
    "for column in ['date_received', 'date_accepted', 'date_epublish']:\n",
    "    select_df[column] = pandas.to_datetime(select_df[column])"
   ]
  },
  {
   "cell_type": "code",
   "execution_count": 19,
   "metadata": {
    "collapsed": false
   },
   "outputs": [
    {
     "data": {
      "text/plain": [
       "57832"
      ]
     },
     "execution_count": 19,
     "metadata": {},
     "output_type": "execute_result"
    }
   ],
   "source": [
    "len(select_df)"
   ]
  },
  {
   "cell_type": "code",
   "execution_count": 40,
   "metadata": {
    "collapsed": false
   },
   "outputs": [],
   "source": [
    "select_df['acceptance_days'] = select_df.date_epublish - select_df.date_accepted\n",
    "#select_df['acceptance_days'] = select_df['acceptance_days'].map(lambda x: x.days)"
   ]
  },
  {
   "cell_type": "code",
   "execution_count": 25,
   "metadata": {
    "collapsed": false
   },
   "outputs": [
    {
     "data": {
      "image/png": "[encoded data removed]",
      "text/plain": [
       "<matplotlib.figure.Figure at 0x7f06c80293c8>"
      ]
     },
     "metadata": {},
     "output_type": "display_data"
    }
   ],
   "source": [
    "seaborn.violinplot(select_df.acceptance_days, select_df.journal_abbrev);"
   ]
  },
  {
   "cell_type": "code",
   "execution_count": null,
   "metadata": {
    "collapsed": false
   },
   "outputs": [],
   "source": [
    "select_df.pivot()"
   ]
  },
  {
   "cell_type": "code",
   "execution_count": 36,
   "metadata": {
    "collapsed": false
   },
   "outputs": [],
   "source": [
    "td = select_df['acceptance_days'].iloc[1000]"
   ]
  },
  {
   "cell_type": "code",
   "execution_count": 37,
   "metadata": {
    "collapsed": false
   },
   "outputs": [
    {
     "data": {
      "text/plain": [
       "48"
      ]
     },
     "execution_count": 37,
     "metadata": {},
     "output_type": "execute_result"
    }
   ],
   "source": [
    "td.days"
   ]
  },
  {
   "cell_type": "code",
   "execution_count": 35,
   "metadata": {
    "collapsed": false
   },
   "outputs": [
    {
     "data": {
      "text/plain": [
       "35"
      ]
     },
     "execution_count": 35,
     "metadata": {},
     "output_type": "execute_result"
    }
   ],
   "source": [
    "td.days"
   ]
  },
  {
   "cell_type": "code",
   "execution_count": 38,
   "metadata": {
    "collapsed": false
   },
   "outputs": [
    {
     "data": {
      "text/plain": [
       "pandas.tslib.Timedelta"
      ]
     },
     "execution_count": 38,
     "metadata": {},
     "output_type": "execute_result"
    }
   ],
   "source": [
    "type(td)"
   ]
  },
  {
   "cell_type": "code",
   "execution_count": null,
   "metadata": {
    "collapsed": true
   },
   "outputs": [],
   "source": []
  }
 ],
 "metadata": {
  "kernelspec": {
   "display_name": "Python 3",
   "language": "python",
   "name": "python3"
  },
  "language_info": {
   "codemirror_mode": {
    "name": "ipython",
    "version": 3
   },
   "file_extension": ".py",
   "mimetype": "text/x-python",
   "name": "python",
   "nbconvert_exporter": "python",
   "pygments_lexer": "ipython3",
   "version": "3.4.3"
  }
 },
 "nbformat": 4,
 "nbformat_minor": 0
}
